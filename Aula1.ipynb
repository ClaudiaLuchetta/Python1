{
  "nbformat": 4,
  "nbformat_minor": 0,
  "metadata": {
    "colab": {
      "provenance": [],
      "authorship_tag": "ABX9TyP6v4DUxVdFIjCtksegqZs2",
      "include_colab_link": true
    },
    "kernelspec": {
      "name": "python3",
      "display_name": "Python 3"
    },
    "language_info": {
      "name": "python"
    }
  },
  "cells": [
    {
      "cell_type": "markdown",
      "metadata": {
        "id": "view-in-github",
        "colab_type": "text"
      },
      "source": [
        "<a href=\"https://colab.research.google.com/github/ClaudiaLuchetta/Python1/blob/main/Aula1.ipynb\" target=\"_parent\"><img src=\"https://colab.research.google.com/assets/colab-badge.svg\" alt=\"Open In Colab\"/></a>"
      ]
    },
    {
      "cell_type": "code",
      "source": [
        "print (\"hello world\")"
      ],
      "metadata": {
        "colab": {
          "base_uri": "https://localhost:8080/"
        },
        "id": "tovH5TMnUqKz",
        "outputId": "59c41f59-3341-4dd4-e576-e2d59ea2b7dd"
      },
      "execution_count": 3,
      "outputs": [
        {
          "output_type": "stream",
          "name": "stdout",
          "text": [
            "hello world\n"
          ]
        }
      ]
    },
    {
      "cell_type": "code",
      "source": [
        "x = 10\n",
        "nome = 'aluno'\n",
        "nota = 8.75\n",
        "fez_inscricao = True"
      ],
      "metadata": {
        "id": "HPKkS_mKXxWL"
      },
      "execution_count": 4,
      "outputs": []
    },
    {
      "cell_type": "code",
      "source": [
        "print(type(x))\n",
        "print(type('nome'))\n",
        "print(type(nota))\n",
        "print(type(fez_inscricao))"
      ],
      "metadata": {
        "colab": {
          "base_uri": "https://localhost:8080/"
        },
        "id": "lAW-UczyYIWA",
        "outputId": "b5b21007-c6de-4d9f-bc9b-0083f3703364"
      },
      "execution_count": 5,
      "outputs": [
        {
          "output_type": "stream",
          "name": "stdout",
          "text": [
            "<class 'int'>\n",
            "<class 'str'>\n",
            "<class 'float'>\n",
            "<class 'bool'>\n"
          ]
        }
      ]
    },
    {
      "cell_type": "code",
      "source": [],
      "metadata": {
        "id": "rTbCJs_NmeWm"
      },
      "execution_count": null,
      "outputs": []
    },
    {
      "cell_type": "code",
      "source": [
        "\n",
        "Nota_1 = int(input(\"Digite a primeira nota\"))\n",
        "Nota_2 = int(input(\"Digite a segunda nota\"))\n",
        "Nota_3 = int(input(\"Digite a terceira nota\"))\n",
        "Nota_4 = int(input(\"Digite a quarta nota\"))"
      ],
      "metadata": {
        "colab": {
          "base_uri": "https://localhost:8080/"
        },
        "id": "ZcBSwxUHf4iJ",
        "outputId": "5184c6b7-3e09-4989-836c-c21d71bdf846"
      },
      "execution_count": 21,
      "outputs": [
        {
          "name": "stdout",
          "output_type": "stream",
          "text": [
            "Digite a primeira nota8\n",
            "Digite a segunda nota7\n",
            "Digite a terceira nota5\n",
            "Digite a quarta nota4\n"
          ]
        }
      ]
    },
    {
      "cell_type": "code",
      "source": [
        "#condição para a aprovação do aluno.\n",
        "\n",
        "\n",
        "media =(Nota_1+Nota_2+Nota_3+Nota_4)/4\n",
        "\n",
        "if media >=6:\n",
        "  situacao = \"Aprovado\"\n",
        "\n",
        "else: situacao = \"Reprovado\""
      ],
      "metadata": {
        "id": "0LnxCgF8glZ3"
      },
      "execution_count": 29,
      "outputs": []
    },
    {
      "cell_type": "code",
      "source": [
        "print(f\"A média das notas é: {media}\")\n",
        "print(f\"A situação do aluno é: {situacao}\")\n",
        "print(f\"Nome do Aluno: {nome}\")"
      ],
      "metadata": {
        "colab": {
          "base_uri": "https://localhost:8080/"
        },
        "id": "n53pIedzi6uf",
        "outputId": "926a8dfb-a03d-40bb-8845-8a67ee1d2973"
      },
      "execution_count": 27,
      "outputs": [
        {
          "output_type": "stream",
          "name": "stdout",
          "text": [
            "A média das notas é: 6.0\n",
            "A situação do aluno é: Aprovado\n"
          ]
        }
      ]
    }
  ]
}