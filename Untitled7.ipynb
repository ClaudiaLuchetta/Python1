{
  "nbformat": 4,
  "nbformat_minor": 0,
  "metadata": {
    "colab": {
      "provenance": [],
      "authorship_tag": "ABX9TyNWagZpDLzb3bPlKwDAvcAc",
      "include_colab_link": true
    },
    "kernelspec": {
      "name": "python3",
      "display_name": "Python 3"
    },
    "language_info": {
      "name": "python"
    }
  },
  "cells": [
    {
      "cell_type": "markdown",
      "metadata": {
        "id": "view-in-github",
        "colab_type": "text"
      },
      "source": [
        "<a href=\"https://colab.research.google.com/github/ClaudiaLuchetta/Python1/blob/main/Untitled7.ipynb\" target=\"_parent\"><img src=\"https://colab.research.google.com/assets/colab-badge.svg\" alt=\"Open In Colab\"/></a>"
      ]
    },
    {
      "cell_type": "code",
      "execution_count": 28,
      "metadata": {
        "colab": {
          "base_uri": "https://localhost:8080/",
          "height": 106
        },
        "id": "uqncIX1XWV_N",
        "outputId": "8ee10155-b285-49fa-c990-c2c32fdad9ee"
      },
      "outputs": [
        {
          "output_type": "error",
          "ename": "IndentationError",
          "evalue": "unexpected indent (ipython-input-1792133314.py, line 18)",
          "traceback": [
            "\u001b[0;36m  File \u001b[0;32m\"/tmp/ipython-input-1792133314.py\"\u001b[0;36m, line \u001b[0;32m18\u001b[0m\n\u001b[0;31m    if letras not in palavra:\u001b[0m\n\u001b[0m    ^\u001b[0m\n\u001b[0;31mIndentationError\u001b[0m\u001b[0;31m:\u001b[0m unexpected indent\n"
          ]
        }
      ],
      "source": [
        "palavra = \"firefox\"\n",
        "letras = []\n",
        "tentativas = 5\n",
        "ganhou = False\n",
        "\n",
        "while True :\n",
        "\n",
        "    for letra in palavra:\n",
        "        if letra in letras:\n",
        "            print(letra, end=\" \")\n",
        "        else:\n",
        "            print(\"_\",end=\" \")\n",
        "\n",
        "    print(f\"Você tem {tentativas} tentativas\")\n",
        "    tentativa = input(\"Escolha uma letra\")\n",
        "    letras.append(tentativa)\n",
        "\n",
        "         if letras not in palavra:\n",
        "    tentativas -= 1\n",
        "\n",
        "ganhou = True\n",
        "     for letra in palavra:\n",
        "       if letra not in letras:\n",
        "\n",
        "\n",
        "ganhou = False\n",
        "  if tentativas == 0 or ganhou:\n",
        "\n",
        "     break\n",
        "\n",
        "\n",
        "\n",
        "if ganhou:\n",
        "    print(f\"Muito bem! A palavra era: {palavra}\")\n",
        "else:\n",
        "    print(f\"Você perdeu! A palavra era: {palavra}\")\n"
      ]
    }
  ]
}